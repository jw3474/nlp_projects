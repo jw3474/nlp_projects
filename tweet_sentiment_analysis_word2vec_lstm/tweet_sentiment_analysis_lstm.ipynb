{
 "cells": [
  {
   "cell_type": "markdown",
   "metadata": {},
   "source": [
    "# Tweet Sentiment Analysis with LSTM"
   ]
  },
  {
   "cell_type": "code",
   "execution_count": 1,
   "metadata": {
    "collapsed": true
   },
   "outputs": [],
   "source": [
    "# Import modules\n",
    "from __future__ import print_function\n",
    "import tensorflow as tf\n",
    "import numpy as np\n",
    "import json\n",
    "import time\n",
    "import matplotlib.pyplot as plt\n",
    "import pickle\n",
    "\n",
    "# Plot configurations\n",
    "% matplotlib inline\n",
    "# Notebook auto reloads code. (Ref: http://stackoverflow.com/questions/1907993/autoreload-of-modules-in-ipython)\n",
    "% load_ext autoreload\n",
    "% autoreload 2"
   ]
  },
  {
   "cell_type": "markdown",
   "metadata": {},
   "source": [
    "### Load data"
   ]
  },
  {
   "cell_type": "code",
   "execution_count": 2,
   "metadata": {},
   "outputs": [
    {
     "name": "stdout",
     "output_type": "stream",
     "text": [
      "size of original train set: 60000\n",
      "size of original test set: 20000\n",
      "****************************************************************************************************\n",
      "size of train set: 60000, #positive: 30055, #negative: 29945\n",
      "size of test set: 1000, #positive: 510, #negative: 490\n",
      "['it', 'will', 'help', 'relieve', 'your', 'stress', 'padtoken', 'padtoken', 'padtoken', 'padtoken', 'padtoken', 'padtoken', 'padtoken', 'padtoken', 'padtoken', 'padtoken', 'padtoken', 'padtoken', 'padtoken', 'padtoken']\n",
      "sentiment: positive\n"
     ]
    }
   ],
   "source": [
    "with open(\"./tweets_data/vocabulary.pkl\", \"rb\") as f:\n",
    "    vocabulary = pickle.load(f)\n",
    "\n",
    "# load our data and separate it into tweets and labels\n",
    "train_data = json.load(open('tweets_data/trainTweets_preprocessed.json', 'r'))\n",
    "train_data = list(map(lambda row:(np.array(row[0],dtype=np.int32),str(row[1])),train_data))\n",
    "train_tweets = np.array([t[0] for t in train_data])\n",
    "train_labels = np.array([int(t[1]) for t in train_data])\n",
    "\n",
    "test_data = json.load(open('tweets_data/testTweets_preprocessed.json', 'r'))\n",
    "test_data = list(map(lambda row:(np.array(row[0],dtype=np.int32),str(row[1])),test_data))\n",
    "test_tweets = np.array([t[0] for t in test_data])\n",
    "test_labels = np.array([int(t[1]) for t in test_data])\n",
    "\n",
    "print(\"size of original train set: {}\".format(len(train_tweets)))\n",
    "print(\"size of original test set: {}\".format(len(test_tweets)))\n",
    "\n",
    "# only select first 1000 test sample for test\n",
    "test_tweets = test_tweets[:1000]\n",
    "test_labels = test_labels[:1000]\n",
    "\n",
    "print(\"*\"*100)\n",
    "print(\"size of train set: {}, #positive: {}, #negative: {}\".format(len(train_tweets), np.sum(train_labels), len(train_tweets)-np.sum(train_labels)))\n",
    "print(\"size of test set: {}, #positive: {}, #negative: {}\".format(len(test_tweets), np.sum(test_labels), len(test_tweets)-np.sum(test_labels)))\n",
    "\n",
    "# show text of the idx-th train tweet\n",
    "# The 'padtoken' is used to ensure each tweet has the same length\n",
    "idx = 100\n",
    "train_text = [vocabulary[x] for x in train_tweets[idx]]\n",
    "print(train_text)\n",
    "sentiment_label = [\"negative\", \"positive\"]\n",
    "print(\"sentiment: {}\".format(sentiment_label[train_labels[idx]]))"
   ]
  },
  {
   "cell_type": "markdown",
   "metadata": {},
   "source": [
    "## LSTM Encoder"
   ]
  },
  {
   "cell_type": "markdown",
   "metadata": {},
   "source": [
    "### train a single-layer lstm network\n",
    "\n",
    "First of all, we'll build a single-layer LSTM network for the analysis.\n",
    "\n",
    "1. Train the network for 1000 iterations. In each iteration, use batch_size samples to train the network.\n",
    "2. For every 50 iterations, apply the network on the test set, and print out the test accuracy and mean loss.\n",
    "\n",
    "With these settings, what is the accuracy and then parameter tuning to achieve a higher accuracy"
   ]
  },
  {
   "cell_type": "code",
   "execution_count": 3,
   "metadata": {
    "collapsed": true
   },
   "outputs": [],
   "source": [
    "# define a linear layer, y = x*w + b\n",
    "def linear(input_, output_size, name, init_bias=0.0):\n",
    "    shape = input_.get_shape().as_list()\n",
    "    with tf.variable_scope(name):\n",
    "        init = tf.truncated_normal([shape[-1], output_size], mean=0.0, stddev=1.0 / shape[-1]**0.5)\n",
    "        W = tf.get_variable(\"weight\", initializer=init)\n",
    "    if init_bias is None:\n",
    "        return tf.matmul(input_, W)\n",
    "    with tf.variable_scope(name):\n",
    "        b = tf.get_variable(\"bias\", [output_size], initializer=tf.constant_initializer(init_bias))\n",
    "    return tf.matmul(input_, W) + b"
   ]
  },
  {
   "cell_type": "code",
   "execution_count": 4,
   "metadata": {
    "collapsed": true
   },
   "outputs": [],
   "source": [
    "# set variables\n",
    "tweet_size = 20\n",
    "hidden_size = 100\n",
    "vocab_size = 7597\n",
    "batch_size = 64\n",
    "\n",
    "# this just makes sure that all our following operations will be placed in the right graph.\n",
    "tf.reset_default_graph()\n",
    "\n",
    "# make placeholders for data we'll feed in\n",
    "tweets = tf.placeholder(tf.int32, [None, tweet_size])\n",
    "labels = tf.placeholder(tf.float32, [None])\n",
    "\n",
    "tweets_onehot = tf.one_hot(tweets, depth=vocab_size, axis=-1)\n",
    "\n",
    "# define the lstm cell\n",
    "lstm_cell = tf.contrib.rnn.LSTMCell(hidden_size)\n",
    "\n",
    "# define the op that runs the LSTM, across time, on the data\n",
    "#init_state = lstm_cell.zero_state(batch_size, tf.float32)\n",
    "#outputs, final_state = tf.nn.dynamic_rnn(lstm_cell, tweets_onehot, initial_state=init_state, dtype=tf.float32)\n",
    "outputs, final_state = tf.nn.dynamic_rnn(lstm_cell, tweets_onehot, dtype=tf.float32)\n",
    "\n",
    "# define that our final sentiment logit is a linear function of the final state of the LSTM\n",
    "sentiment = linear(final_state[-1], 1, name=\"output\")\n",
    "\n",
    "# define cross entropy/sigmoid loss function\n",
    "sentiment = tf.squeeze(sentiment, [1])\n",
    "loss = tf.nn.sigmoid_cross_entropy_with_logits(logits=sentiment, labels=labels)\n",
    "loss = tf.reduce_mean(loss)\n",
    "\n",
    "# compute accuracy\n",
    "prob = tf.nn.sigmoid(sentiment)\n",
    "prediction = tf.to_float(tf.greater_equal(prob, 0.5))\n",
    "acc = tf.to_float(tf.equal(prediction, labels))\n",
    "acc = tf.reduce_mean(acc)\n",
    "\n",
    "# define optimizer\n",
    "trainer = tf.train.AdamOptimizer()\n",
    "gradients = trainer.compute_gradients(loss)\n",
    "gradients_clipped = [(tf.clip_by_value(t[0],-1,1),t[1]) for t in gradients]\n",
    "optimizer = trainer.apply_gradients(gradients_clipped)"
   ]
  },
  {
   "cell_type": "code",
   "execution_count": 5,
   "metadata": {},
   "outputs": [
    {
     "name": "stdout",
     "output_type": "stream",
     "text": [
      "(1000, 20)\n"
     ]
    }
   ],
   "source": [
    "print(test_tweets.shape)"
   ]
  },
  {
   "cell_type": "code",
   "execution_count": 7,
   "metadata": {
    "scrolled": false
   },
   "outputs": [
    {
     "name": "stdout",
     "output_type": "stream",
     "text": [
      "step 0: train loss = 0.6926367878913879, test loss = 0.6922867426872253, train acc = 0.53125, test acc = 0.547\n",
      "step 50: train loss = 0.5944596529006958, test loss = 0.646370602607727, train acc = 0.6875, test acc = 0.6290000009536744\n",
      "step 100: train loss = 0.6180109977722168, test loss = 0.5917654404640198, train acc = 0.671875, test acc = 0.676\n",
      "step 150: train loss = 0.5727746486663818, test loss = 0.5866021471023559, train acc = 0.734375, test acc = 0.6969999995231628\n",
      "step 200: train loss = 0.5294105410575867, test loss = 0.5623033666610717, train acc = 0.703125, test acc = 0.7170000004768372\n",
      "step 250: train loss = 0.45725739002227783, test loss = 0.5448545160293579, train acc = 0.765625, test acc = 0.7210000004768372\n",
      "step 300: train loss = 0.6063907146453857, test loss = 0.5411413726806641, train acc = 0.71875, test acc = 0.7269999990463257\n",
      "step 350: train loss = 0.5294427871704102, test loss = 0.5587043895721435, train acc = 0.75, test acc = 0.7090000009536743\n",
      "step 400: train loss = 0.548490583896637, test loss = 0.5367403512001038, train acc = 0.75, test acc = 0.7389999990463256\n",
      "step 450: train loss = 0.6172195672988892, test loss = 0.5284256753921509, train acc = 0.703125, test acc = 0.7459999990463256\n",
      "step 500: train loss = 0.5506560802459717, test loss = 0.5231889352798462, train acc = 0.71875, test acc = 0.745\n",
      "step 550: train loss = 0.5481210947036743, test loss = 0.5210894293785095, train acc = 0.71875, test acc = 0.7410000009536744\n",
      "step 600: train loss = 0.4210825562477112, test loss = 0.5437724232673645, train acc = 0.828125, test acc = 0.7140000009536743\n",
      "step 650: train loss = 0.5312641859054565, test loss = 0.5231827425956727, train acc = 0.78125, test acc = 0.749\n",
      "step 700: train loss = 0.45852917432785034, test loss = 0.5103711366653443, train acc = 0.765625, test acc = 0.7619999990463256\n",
      "step 750: train loss = 0.5956020951271057, test loss = 0.5164627757072449, train acc = 0.75, test acc = 0.7509999990463256\n",
      "step 800: train loss = 0.588720440864563, test loss = 0.515058503627777, train acc = 0.71875, test acc = 0.7479999990463256\n",
      "step 850: train loss = 0.4793497920036316, test loss = 0.5194300093650818, train acc = 0.828125, test acc = 0.7490000009536744\n",
      "step 900: train loss = 0.5159651637077332, test loss = 0.5106004476547241, train acc = 0.8125, test acc = 0.7499999995231629\n",
      "step 950: train loss = 0.4747043251991272, test loss = 0.5071971130371093, train acc = 0.8125, test acc = 0.7540000004768371\n"
     ]
    }
   ],
   "source": [
    "# Training function\n",
    "num_steps = 1000\n",
    "start_id = 0\n",
    "train_losses = []\n",
    "train_accs = []\n",
    "test_losses = []\n",
    "test_accs = []\n",
    "with tf.Session() as sess:\n",
    "    sess.run(tf.global_variables_initializer())\n",
    "    for step in range(num_steps):\n",
    "        #print(step)\n",
    "        batch_tweets = train_tweets[start_id:min(start_id + batch_size, train_tweets.shape[0])]\n",
    "        batch_labels = train_labels[start_id:min(start_id + batch_size, train_tweets.shape[0])]\n",
    "        if start_id + batch_size >= train_tweets.shape[0]:\n",
    "            start_id = 0\n",
    "        else:\n",
    "            start_id += batch_size\n",
    "        feed_dict = {tweets: batch_tweets, labels: batch_labels}\n",
    "        _, train_loss, train_acc = sess.run([optimizer, loss, acc], feed_dict=feed_dict)\n",
    "        train_losses.append(train_loss)\n",
    "        train_accs.append(train_acc)\n",
    "        if (step % 50 == 0):\n",
    "            num_itrs = int(np.ceil(test_tweets.shape[0] / batch_size))\n",
    "            test_loss = 0\n",
    "            test_acc = 0\n",
    "            for i in range(num_itrs):\n",
    "                #print(i)\n",
    "                test_start_id = i * batch_size\n",
    "                test_end_id = min((i+1) * batch_size, test_tweets.shape[0])\n",
    "                batch_tweets = test_tweets[test_start_id:test_end_id]\n",
    "                batch_labels = test_labels[test_start_id:test_end_id]\n",
    "                feed_dict = {tweets: batch_tweets, labels: batch_labels}\n",
    "                test_l, test_a = sess.run([loss, acc], feed_dict=feed_dict)\n",
    "                test_loss += test_l * (test_end_id - test_start_id)\n",
    "                test_acc += test_a * (test_end_id - test_start_id)\n",
    "            test_loss /= test_tweets.shape[0]\n",
    "            test_acc /= test_tweets.shape[0]\n",
    "            print(\"step {}: train loss = {}, test loss = {}, train acc = {}, test acc = {}\".format(step, train_loss, test_loss, train_acc, test_acc))\n",
    "            "
   ]
  },
  {
   "cell_type": "markdown",
   "metadata": {},
   "source": [
    "### train a two-layer lstm network\n",
    "\n",
    "Next, we look at a slightly more difficult network structure: a double-layer LSTM. The output of the first LSTM cell is propagated to the second LSTM cell. We only need to make small modifications to the previous network to construct this one.\n"
   ]
  },
  {
   "cell_type": "code",
   "execution_count": 6,
   "metadata": {
    "collapsed": true
   },
   "outputs": [],
   "source": [
    "# set variables\n",
    "tweet_size = 20\n",
    "hidden_size = 100\n",
    "vocab_size = 7597\n",
    "batch_size = 64\n",
    "\n",
    "# this just makes sure that all our following operations will be placed in the right graph.\n",
    "tf.reset_default_graph()\n",
    "\n",
    "# make placeholders for data we'll feed in\n",
    "tweets = tf.placeholder(tf.int32, [None, tweet_size])\n",
    "labels = tf.placeholder(tf.float32, [None])\n",
    "\n",
    "tweets_onehot = tf.one_hot(tweets, depth=vocab_size, axis=-1)\n",
    "\n",
    "# define the lstm cell\n",
    "double_lstm_cell = tf.nn.rnn_cell.MultiRNNCell([tf.nn.rnn_cell.LSTMCell(hidden_size) for _ in range(2)])\n",
    "\n",
    "# define the op that runs the LSTM, across time, on the data\n",
    "#init_state = lstm_cell.zero_state(batch_size, tf.float32)\n",
    "#outputs, final_state = tf.nn.dynamic_rnn(lstm_cell, tweets_onehot, initial_state=init_state, dtype=tf.float32)\n",
    "outputs, final_state = tf.nn.dynamic_rnn(double_lstm_cell, tweets_onehot, dtype=tf.float32)\n",
    "# define that our final sentiment logit is a linear function of the final state of the LSTM\n",
    "sentiment = linear(final_state[-1][-1], 1, name=\"output\")\n",
    "\n",
    "# define cross entropy/sigmoid loss function\n",
    "sentiment = tf.squeeze(sentiment, [1])\n",
    "loss = tf.nn.sigmoid_cross_entropy_with_logits(logits=sentiment, labels=labels)\n",
    "loss = tf.reduce_mean(loss)\n",
    "\n",
    "# compute accuracy\n",
    "prob = tf.nn.sigmoid(sentiment)\n",
    "prediction = tf.to_float(tf.greater_equal(prob, 0.5))\n",
    "acc = tf.to_float(tf.equal(prediction, labels))\n",
    "acc = tf.reduce_mean(acc)\n",
    "\n",
    "# define optimizer\n",
    "trainer = tf.train.AdamOptimizer()\n",
    "gradients = trainer.compute_gradients(loss)\n",
    "gradients_clipped = [(tf.clip_by_value(t[0],-1,1),t[1]) for t in gradients]\n",
    "optimizer = trainer.apply_gradients(gradients_clipped)"
   ]
  },
  {
   "cell_type": "code",
   "execution_count": 9,
   "metadata": {},
   "outputs": [
    {
     "name": "stdout",
     "output_type": "stream",
     "text": [
      "step 0: train loss = 0.6932448148727417, test loss = 0.6926844396591186, train acc = 0.4375, test acc = 0.539\n",
      "step 50: train loss = 0.5435563325881958, test loss = 0.6287727279663086, train acc = 0.734375, test acc = 0.6510000009536743\n",
      "step 100: train loss = 0.585548996925354, test loss = 0.590353440284729, train acc = 0.671875, test acc = 0.6829999990463257\n",
      "step 150: train loss = 0.5590313673019409, test loss = 0.5840771899223328, train acc = 0.75, test acc = 0.7080000009536743\n",
      "step 200: train loss = 0.5114988088607788, test loss = 0.5538660912513733, train acc = 0.765625, test acc = 0.7199999990463257\n",
      "step 250: train loss = 0.45484456419944763, test loss = 0.5377914710044861, train acc = 0.75, test acc = 0.735\n",
      "step 300: train loss = 0.5865883231163025, test loss = 0.5355859475135804, train acc = 0.71875, test acc = 0.7410000004768371\n",
      "step 350: train loss = 0.5432904958724976, test loss = 0.5504963159561157, train acc = 0.734375, test acc = 0.727\n",
      "step 400: train loss = 0.5681610107421875, test loss = 0.5248734230995178, train acc = 0.734375, test acc = 0.7539999990463256\n",
      "step 450: train loss = 0.5797514915466309, test loss = 0.5353078541755676, train acc = 0.703125, test acc = 0.7400000009536744\n",
      "step 500: train loss = 0.5533156394958496, test loss = 0.5182287673950196, train acc = 0.734375, test acc = 0.745\n",
      "step 550: train loss = 0.5688567757606506, test loss = 0.5146489233970643, train acc = 0.6875, test acc = 0.7549999990463256\n",
      "step 600: train loss = 0.4233821630477905, test loss = 0.5231055631637573, train acc = 0.828125, test acc = 0.737\n",
      "step 650: train loss = 0.5504534244537354, test loss = 0.5168154335021973, train acc = 0.75, test acc = 0.756\n",
      "step 700: train loss = 0.463176429271698, test loss = 0.5080539832115173, train acc = 0.765625, test acc = 0.7699999990463257\n",
      "step 750: train loss = 0.5928098559379578, test loss = 0.5079823040962219, train acc = 0.75, test acc = 0.755\n",
      "step 800: train loss = 0.5936626195907593, test loss = 0.5101420173645019, train acc = 0.71875, test acc = 0.75\n",
      "step 850: train loss = 0.4744349718093872, test loss = 0.5160601410865784, train acc = 0.8125, test acc = 0.7470000009536744\n",
      "step 900: train loss = 0.5197031497955322, test loss = 0.5105808844566345, train acc = 0.78125, test acc = 0.7450000004768371\n",
      "step 950: train loss = 0.45480456948280334, test loss = 0.5056350607872009, train acc = 0.84375, test acc = 0.7519999990463256\n"
     ]
    }
   ],
   "source": [
    "# Training function\n",
    "num_steps = 1000\n",
    "start_id = 0\n",
    "train_losses = []\n",
    "train_accs = []\n",
    "test_losses = []\n",
    "test_accs = []\n",
    "with tf.Session() as sess:\n",
    "    sess.run(tf.global_variables_initializer())\n",
    "    for step in range(num_steps):\n",
    "        #print(step)\n",
    "        batch_tweets = train_tweets[start_id:min(start_id + batch_size, train_tweets.shape[0])]\n",
    "        batch_labels = train_labels[start_id:min(start_id + batch_size, train_tweets.shape[0])]\n",
    "        if start_id + batch_size >= train_tweets.shape[0]:\n",
    "            start_id = 0\n",
    "        else:\n",
    "            start_id += batch_size\n",
    "        feed_dict = {tweets: batch_tweets, labels: batch_labels}\n",
    "        _, train_loss, train_acc = sess.run([optimizer, loss, acc], feed_dict=feed_dict)\n",
    "        train_losses.append(train_loss)\n",
    "        train_accs.append(train_acc)\n",
    "        if (step % 50 == 0):\n",
    "            num_itrs = int(np.ceil(test_tweets.shape[0] / batch_size))\n",
    "            test_loss = 0\n",
    "            test_acc = 0\n",
    "            for i in range(num_itrs):\n",
    "                #print(i)\n",
    "                test_start_id = i * batch_size\n",
    "                test_end_id = min((i+1) * batch_size, test_tweets.shape[0])\n",
    "                batch_tweets = test_tweets[test_start_id:test_end_id]\n",
    "                batch_labels = test_labels[test_start_id:test_end_id]\n",
    "                feed_dict = {tweets: batch_tweets, labels: batch_labels}\n",
    "                test_l, test_a = sess.run([loss, acc], feed_dict=feed_dict)\n",
    "                test_loss += test_l * (test_end_id - test_start_id)\n",
    "                test_acc += test_a * (test_end_id - test_start_id)\n",
    "            test_loss /= test_tweets.shape[0]\n",
    "            test_acc /= test_tweets.shape[0]\n",
    "            print(\"step {}: train loss = {}, test loss = {}, train acc = {}, test acc = {}\".format(step, train_loss, test_loss, train_acc, test_acc))\n",
    "            "
   ]
  },
  {
   "cell_type": "markdown",
   "metadata": {},
   "source": [
    "## Embedding Lookup layer"
   ]
  },
  {
   "cell_type": "markdown",
   "metadata": {},
   "source": [
    "###  Define an embedding layer\n",
    "\n",
    "It's not hard to imagine in the previous practices, the input we fed in are very sparse because each word was represented as a one-hot vector. This makes it difficult for the network to understand what story the input data is telling. \n",
    "\n",
    "Word embedding: instead of using a one-hot vector to represent each word, we can add an word embedding matrix in which each word is represented as a low-dimensional vector. Note that this representation is not sparse any more, because we're working in a continuous vector space now. Words that share similar/related semantic meaning should be 'close to each other' in this vector space (we could define a distance measure to estimate the closeness). "
   ]
  },
  {
   "cell_type": "code",
   "execution_count": 7,
   "metadata": {
    "collapsed": true
   },
   "outputs": [],
   "source": [
    "def embedding(input_, vocab_size, output_size, name):\n",
    "    \"\"\"\n",
    "    1. Define an embedding matrix\n",
    "    2. return both the lookup results and the embedding matrix.\n",
    "    \"\"\"\n",
    "    word_embed = tf.get_variable(name=name, shape=[vocab_size, output_size])\n",
    "    lookup = tf.nn.embedding_lookup(word_embed, input_)\n",
    "    return (lookup, word_embed)"
   ]
  },
  {
   "cell_type": "markdown",
   "metadata": {},
   "source": [
    "### Train a single lstm network with embedding layer\n",
    "\n",
    "Build a single-layer LSTM network according to the network structure. Then, train the network with the training function."
   ]
  },
  {
   "cell_type": "code",
   "execution_count": 109,
   "metadata": {
    "collapsed": true
   },
   "outputs": [],
   "source": [
    "# EMBEDDING SINGLE-LAYER LSTM\n",
    "# set variables\n",
    "tweet_size = 20\n",
    "hidden_size = 100\n",
    "vocab_size = 7597\n",
    "batch_size = 128\n",
    "embed_size = 128\n",
    "\n",
    "# this just makes sure that all our following operations will be placed in the right graph.\n",
    "tf.reset_default_graph()\n",
    "\n",
    "# make placeholders for data we'll feed in\n",
    "tweets = tf.placeholder(tf.int32, [None, tweet_size])\n",
    "labels = tf.placeholder(tf.float32, [None])\n",
    "\n",
    "tweets_embed, embed = embedding(tweets, vocab_size, embed_size, 'embed')\n",
    "\n",
    "# define the lstm cell\n",
    "lstm_cell = tf.contrib.rnn.LSTMCell(hidden_size)\n",
    "\n",
    "# define the op that runs the LSTM, across time, on the data\n",
    "#init_state = lstm_cell.zero_state(batch_size, tf.float32)\n",
    "#outputs, final_state = tf.nn.dynamic_rnn(lstm_cell, tweets_onehot, initial_state=init_state, dtype=tf.float32)\n",
    "outputs, final_state = tf.nn.dynamic_rnn(lstm_cell, tweets_embed, dtype=tf.float32)\n",
    "\n",
    "# define that our final sentiment logit is a linear function of the final state of the LSTM\n",
    "sentiment = linear(final_state[-1], 1, name=\"output\")\n",
    "\n",
    "# define cross entropy/sigmoid loss function\n",
    "sentiment = tf.squeeze(sentiment, [1])\n",
    "loss = tf.nn.sigmoid_cross_entropy_with_logits(logits=sentiment, labels=labels)\n",
    "loss = tf.reduce_mean(loss)\n",
    "\n",
    "# compute accuracy\n",
    "prob = tf.nn.sigmoid(sentiment)\n",
    "prediction = tf.to_float(tf.greater_equal(prob, 0.5))\n",
    "acc = tf.to_float(tf.equal(prediction, labels))\n",
    "acc = tf.reduce_mean(acc)\n",
    "\n",
    "# define optimizer\n",
    "trainer = tf.train.AdamOptimizer()\n",
    "gradients = trainer.compute_gradients(loss)\n",
    "gradients_clipped = [(tf.clip_by_value(t[0],-1,1),t[1]) for t in gradients]\n",
    "optimizer = trainer.apply_gradients(gradients_clipped)"
   ]
  },
  {
   "cell_type": "code",
   "execution_count": 110,
   "metadata": {},
   "outputs": [
    {
     "name": "stdout",
     "output_type": "stream",
     "text": [
      "step 0: train loss = 0.6931838989257812, test loss = 0.6927768788337707, train acc = 0.46875, test acc = 0.5430000004768372\n",
      "step 50: train loss = 0.5806010961532593, test loss = 0.613920443058014, train acc = 0.7109375, test acc = 0.6589999995231628\n",
      "step 100: train loss = 0.5398669242858887, test loss = 0.5551366386413574, train acc = 0.75, test acc = 0.7169999995231628\n",
      "step 150: train loss = 0.6041603684425354, test loss = 0.544174467086792, train acc = 0.7109375, test acc = 0.7410000023841858\n",
      "step 200: train loss = 0.5747165679931641, test loss = 0.5248050346374512, train acc = 0.71875, test acc = 0.760000002861023\n",
      "step 250: train loss = 0.5489137768745422, test loss = 0.518502375125885, train acc = 0.703125, test acc = 0.752\n",
      "step 300: train loss = 0.42131972312927246, test loss = 0.5149349765777588, train acc = 0.828125, test acc = 0.760000002861023\n",
      "step 350: train loss = 0.45854446291923523, test loss = 0.5054869620800019, train acc = 0.8046875, test acc = 0.7700000019073486\n",
      "step 400: train loss = 0.5302026271820068, test loss = 0.5080785751342773, train acc = 0.7265625, test acc = 0.7589999990463256\n",
      "step 450: train loss = 0.5194768905639648, test loss = 0.503450492143631, train acc = 0.796875, test acc = 0.7630000019073486\n",
      "step 500: train loss = 0.44703924655914307, test loss = 0.5061266126632691, train acc = 0.7734375, test acc = 0.7580000004768371\n",
      "step 550: train loss = 0.46269187331199646, test loss = 0.5011374881267547, train acc = 0.765625, test acc = 0.7599999980926514\n",
      "step 600: train loss = 0.45657169818878174, test loss = 0.4979318091869354, train acc = 0.765625, test acc = 0.7640000014305115\n",
      "step 650: train loss = 0.4706166982650757, test loss = 0.5064416489601136, train acc = 0.765625, test acc = 0.7660000019073486\n",
      "step 700: train loss = 0.5255182981491089, test loss = 0.5091097569465637, train acc = 0.75, test acc = 0.7649999990463257\n",
      "step 750: train loss = 0.4622397720813751, test loss = 0.5247864785194397, train acc = 0.78125, test acc = 0.7660000014305115\n",
      "step 800: train loss = 0.43447962403297424, test loss = 0.5013474013805389, train acc = 0.8046875, test acc = 0.768000002861023\n",
      "step 850: train loss = 0.5244350433349609, test loss = 0.522426169872284, train acc = 0.75, test acc = 0.7479999990463256\n",
      "step 900: train loss = 0.5022369623184204, test loss = 0.5169827089309692, train acc = 0.8046875, test acc = 0.7560000014305115\n",
      "step 950: train loss = 0.450303316116333, test loss = 0.5046981060504914, train acc = 0.84375, test acc = 0.7709999995231629\n"
     ]
    }
   ],
   "source": [
    "# Training function\n",
    "num_steps = 1000\n",
    "start_id = 0\n",
    "train_losses = []\n",
    "train_accs = []\n",
    "test_losses = []\n",
    "test_accs = []\n",
    "sess = tf.Session()\n",
    "sess.run(tf.global_variables_initializer())\n",
    "for step in range(num_steps):\n",
    "    #print(step)\n",
    "    batch_tweets = train_tweets[start_id:min(start_id + batch_size, train_tweets.shape[0])]\n",
    "    batch_labels = train_labels[start_id:min(start_id + batch_size, train_tweets.shape[0])]\n",
    "    if start_id + batch_size >= train_tweets.shape[0]:\n",
    "        start_id = 0\n",
    "    else:\n",
    "        start_id += batch_size\n",
    "    feed_dict = {tweets: batch_tweets, labels: batch_labels}\n",
    "    _, train_loss, train_acc = sess.run([optimizer, loss, acc], feed_dict=feed_dict)\n",
    "    train_losses.append(train_loss)\n",
    "    train_accs.append(train_acc)\n",
    "    if (step % 50 == 0):\n",
    "        num_itrs = int(np.ceil(test_tweets.shape[0] / batch_size))\n",
    "        test_loss = 0\n",
    "        test_acc = 0\n",
    "        for i in range(num_itrs):\n",
    "            #print(i)\n",
    "            test_start_id = i * batch_size\n",
    "            test_end_id = min((i+1) * batch_size, test_tweets.shape[0])\n",
    "            batch_tweets = test_tweets[test_start_id:test_end_id]\n",
    "            batch_labels = test_labels[test_start_id:test_end_id]\n",
    "            feed_dict = {tweets: batch_tweets, labels: batch_labels}\n",
    "            test_l, test_a = sess.run([loss, acc], feed_dict=feed_dict)\n",
    "            test_loss += test_l * (test_end_id - test_start_id)\n",
    "            test_acc += test_a * (test_end_id - test_start_id)\n",
    "        test_loss /= test_tweets.shape[0]\n",
    "        test_acc /= test_tweets.shape[0]\n",
    "        print(\"step {}: train loss = {}, test loss = {}, train acc = {}, test acc = {}\".format(step, train_loss, test_loss, train_acc, test_acc))  \n",
    "            "
   ]
  },
  {
   "cell_type": "markdown",
   "metadata": {},
   "source": [
    "### Visualize word vectors via tSNE\n",
    "\n",
    "First, we retrieve **embedding matrix** from the network. Then use tSNE to reduce each low-dimensional word vector into a 2D vector. \n",
    "\n",
    "And then, we visualize some interesting word pairs in 2D panel."
   ]
  },
  {
   "cell_type": "code",
   "execution_count": 111,
   "metadata": {
    "collapsed": true
   },
   "outputs": [],
   "source": [
    "female_male = [\"men\", \"women\", \"king\", \"queen\"]\n",
    "country_capital = [\"spain\", \"madrid\", \"italy\", \"rome\", \"japan\", \"tokyo\"]"
   ]
  },
  {
   "cell_type": "code",
   "execution_count": 112,
   "metadata": {
    "collapsed": true
   },
   "outputs": [],
   "source": [
    "from sklearn.manifold import TSNE\n",
    "\n",
    "# get the value of our embedding matrix\n",
    "embed_mat = sess.run(embed)\n",
    "dim2_embed = TSNE(n_components=2).fit_transform(embed_mat)"
   ]
  },
  {
   "cell_type": "code",
   "execution_count": 113,
   "metadata": {},
   "outputs": [
    {
     "name": "stdout",
     "output_type": "stream",
     "text": [
      "(7597, 2)\n"
     ]
    }
   ],
   "source": [
    "reverse_vocab = {}\n",
    "for k in range(vocab_size):\n",
    "    v = vocabulary[k]\n",
    "    reverse_vocab[v] = k\n",
    "print(dim2_embed.shape)"
   ]
  },
  {
   "cell_type": "code",
   "execution_count": 114,
   "metadata": {},
   "outputs": [
    {
     "data": {
      "image/png": "[encoded data removed]",
      "text/plain": [
       "<matplotlib.figure.Figure at 0x11cc27ef0>"
      ]
     },
     "metadata": {},
     "output_type": "display_data"
    }
   ],
   "source": [
    "plot_words = female_male\n",
    "#plot_words = country_capital\n",
    "plot_x = []\n",
    "plot_y = []\n",
    "for i in range(len(plot_words)):\n",
    "    wordvec = dim2_embed[reverse_vocab[plot_words[i].lower()]]\n",
    "    plot_x.append(wordvec[0])\n",
    "    plot_y.append(wordvec[1])\n",
    "plt.figure()\n",
    "plt.scatter(plot_x, plot_y)\n",
    "for i in range(len(plot_words)):\n",
    "    w = plot_words[i]\n",
    "    plt.annotate(w, xy=(plot_x[i], plot_y[i]))\n",
    "plt.show()"
   ]
  },
  {
   "cell_type": "code",
   "execution_count": 115,
   "metadata": {},
   "outputs": [
    {
     "data": {
      "image/png": "[encoded data removed]",
      "text/plain": [
       "<matplotlib.figure.Figure at 0x11da86d30>"
      ]
     },
     "metadata": {},
     "output_type": "display_data"
    }
   ],
   "source": [
    "plot_words = country_capital\n",
    "plot_x = []\n",
    "plot_y = []\n",
    "for i in range(len(plot_words)):\n",
    "    wordvec = dim2_embed[reverse_vocab[plot_words[i].lower()]]\n",
    "    plot_x.append(wordvec[0])\n",
    "    plot_y.append(wordvec[1])\n",
    "plt.figure()\n",
    "plt.scatter(plot_x, plot_y)\n",
    "for i in range(len(plot_words)):\n",
    "    w = plot_words[i]\n",
    "    plt.annotate(w, xy=(plot_x[i], plot_y[i]))\n",
    "plt.show()"
   ]
  },
  {
   "cell_type": "code",
   "execution_count": null,
   "metadata": {
    "collapsed": true
   },
   "outputs": [],
   "source": []
  }
 ],
 "metadata": {
  "anaconda-cloud": {},
  "kernelspec": {
   "display_name": "Python 3",
   "language": "python",
   "name": "python3"
  },
  "language_info": {
   "codemirror_mode": {
    "name": "ipython",
    "version": 3
   },
   "file_extension": ".py",
   "mimetype": "text/x-python",
   "name": "python",
   "nbconvert_exporter": "python",
   "pygments_lexer": "ipython3",
   "version": "3.6.1"
  }
 },
 "nbformat": 4,
 "nbformat_minor": 2
}
